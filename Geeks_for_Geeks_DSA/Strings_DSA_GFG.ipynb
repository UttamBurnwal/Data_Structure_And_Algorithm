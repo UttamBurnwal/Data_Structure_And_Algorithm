{
  "nbformat": 4,
  "nbformat_minor": 0,
  "metadata": {
    "colab": {
      "name": "Geeks for Geeks DSA Strings",
      "provenance": [],
      "collapsed_sections": []
    },
    "kernelspec": {
      "name": "python3",
      "display_name": "Python 3"
    },
    "language_info": {
      "name": "python"
    }
  },
  "cells": [
    {
      "cell_type": "markdown",
      "source": [
        "## School\n",
        "\n",
        "Amazon \n",
        "Microsoft \n",
        "Flipkart \n",
        "Adobe \n",
        "Google \n",
        "Samsung \n",
        "Accolite \n",
        "MakeMyTrip \n",
        "Zoho \n",
        "Snapdeal \n",
        "Paytm \n",
        "Morgan Stanley \n",
        "Goldman Sachs \n",
        "Walmart \n",
        "OYO Rooms \n",
        "FactSet \n",
        "Oracle \n",
        "MAQ Software \n",
        "SAP Labs \n",
        "VMWare \n",
        "Qualcomm \n",
        "Facebook \n",
        "Visa \n",
        "Linkedin "
      ],
      "metadata": {
        "id": "7skXGF9VCvlG"
      }
    },
    {
      "cell_type": "code",
      "execution_count": null,
      "metadata": {
        "id": "0bESxuXICkPZ"
      },
      "outputs": [],
      "source": [
        "# Remove Spaces\n",
        "\n",
        "class Solution:\n",
        "    def modify(self, s):\n",
        "        return s.replace(\" \",\"\")"
      ]
    },
    {
      "cell_type": "code",
      "source": [
        "# Count type of Characters\n",
        "\n",
        "class Solution:\n",
        "    def count (self,s):\n",
        "        s = str(s)\n",
        "        n = str(1234567890)\n",
        "        c = []\n",
        "        u = [x for x in s if x.isupper()]\n",
        "        c.append(len(u))\n",
        "        l = [x for x in s if x.islower()]\n",
        "        c.append(len(l))\n",
        "        num = [x for x in s if x in n]\n",
        "        c.append(len(num))\n",
        "        sc = len(s) - (len(u) + len(l) + len(num))\n",
        "        c.append(sc)\n",
        "        return c"
      ],
      "metadata": {
        "id": "E3mREa3JDSju"
      },
      "execution_count": null,
      "outputs": []
    },
    {
      "cell_type": "code",
      "source": [
        "# Reversing the vowels\n",
        "\n",
        "class Solution:\n",
        "    def modify(self, s):\n",
        "        sv=\"\"\n",
        "        st=\"\"\n",
        "        for i in s:\n",
        "            if( i==\"a\" or i==\"e\" or i==\"i\" or i==\"o\" or i==\"u\"):\n",
        "                sv+=i\n",
        "        j=-1        \n",
        "        for i in s:\n",
        "            if( i==\"a\" or i==\"e\" or i==\"i\" or i==\"o\" or i==\"u\"):\n",
        "                 st=st+sv[j] \n",
        "                 j-=1\n",
        "                \n",
        "            else:\n",
        "                st+=i\n",
        "        return st     \n"
      ],
      "metadata": {
        "id": "89dYXVXQDp2u"
      },
      "execution_count": null,
      "outputs": []
    },
    {
      "cell_type": "markdown",
      "source": [
        "## Basic\n",
        "Amazon Microsoft Flipkart Adobe Google Samsung Accolite MakeMyTrip Zoho Snapdeal Paytm Morgan Stanley Goldman Sachs Walmart OYO Rooms FactSet Oracle MAQ Software SAP Labs VMWare Qualcomm Facebook Visa Linkedin"
      ],
      "metadata": {
        "id": "A9B0msmeOMRn"
      }
    },
    {
      "cell_type": "code",
      "source": [
        "# Implement strstr\n",
        "\n",
        "def strstr(s,x):\n",
        "  if x in s:\n",
        "    return s.find(x)\n",
        "  else:\n",
        "    return -1"
      ],
      "metadata": {
        "id": "Vn1h2r4XJ2QF"
      },
      "execution_count": null,
      "outputs": []
    },
    {
      "cell_type": "code",
      "source": [
        "# Check if strings are rotations of each other or not\n",
        "\n",
        "class Solution:   \n",
        "    def areRotations(self,s1,s2):\n",
        "        for i in range(len(s1)):\n",
        "            temp = s1[i::]+s1[:i]\n",
        "            if temp == s2:\n",
        "                return True\n",
        "        else:\n",
        "            return False"
      ],
      "metadata": {
        "id": "ROctZR35QAaj"
      },
      "execution_count": null,
      "outputs": []
    },
    {
      "cell_type": "code",
      "source": [
        "# Anagram of String\n",
        "\n",
        "def remAnagram(str1,str2):\n",
        "  str1 = list(str1)\n",
        "  s1 = len(str1)\n",
        "  str2 = list(str2)\n",
        "  s2 = len(str2)\n",
        "  res = 0\n",
        "  if s2 > s1:\n",
        "    for i in str1:\n",
        "      if i in str2:\n",
        "        res += 1\n",
        "        str2.remove(i)\n",
        "  else:\n",
        "    for i in str2:\n",
        "      if i in str1:\n",
        "        res += 1\n",
        "        str1.remove(i)\n",
        "  return s1 + s2 - 2*(res)\n",
        "\n",
        "\n"
      ],
      "metadata": {
        "id": "Giccnw5jyqfO"
      },
      "execution_count": null,
      "outputs": []
    },
    {
      "cell_type": "code",
      "source": [
        "# Maximum Occuring Character\n",
        "\n",
        "class Solution:\n",
        "    def getMaxOccurringChar(self,s):\n",
        "        from collections import Counter\n",
        "        c = Counter(list(s))\n",
        "        maxi = max(c.values())\n",
        "        sol = [i for i,x in c.items() if x == maxi]\n",
        "        return min(sol)"
      ],
      "metadata": {
        "id": "TmsMs0773WJX"
      },
      "execution_count": null,
      "outputs": []
    },
    {
      "cell_type": "code",
      "source": [
        "# Print first letter of every word in the string\n",
        "\n",
        "def firstAlphabet(S):\n",
        "  S = S.split(' ')\n",
        "  a = ''\n",
        "  for i in range(len(S)):\n",
        "    a += S[i][0]\n",
        "  return a\n"
      ],
      "metadata": {
        "id": "Sg0UqVtt-xZp"
      },
      "execution_count": null,
      "outputs": []
    },
    {
      "cell_type": "code",
      "source": [
        "# Binary String\n",
        "\n",
        "class Solution:\n",
        "    def binarySubstring(self,n,s):\n",
        "      count = 0\n",
        "      for i in range(n):\n",
        "          if s[i] == '1':\n",
        "              count = count + 1\n",
        "      return (count*(count-1))//2"
      ],
      "metadata": {
        "id": "McfCmEbv3WF3"
      },
      "execution_count": null,
      "outputs": []
    },
    {
      "cell_type": "code",
      "source": [
        "# Repeated Character\n",
        "\n",
        "class Solution:\n",
        "    def firstRep(self, s):\n",
        "        from collections import Counter\n",
        "        c = [i for i,x in Counter(list(s)).items() if x > 1]\n",
        "        if len(c)==0:\n",
        "          return -1\n",
        "        else:\n",
        "            for i in s:\n",
        "                if i in c:\n",
        "                    return i"
      ],
      "metadata": {
        "id": "BLGP3b6SAAqN"
      },
      "execution_count": null,
      "outputs": []
    },
    {
      "cell_type": "code",
      "source": [
        "# Convert to Roman No\n",
        "\n",
        "class Solution:\n",
        "   def convertRoman(self, n):\n",
        "       #Code here\n",
        "       ROMANS = (('M',  1000),\n",
        "         ('CM', 900),\n",
        "         ('D',  500),\n",
        "         ('CD', 400),\n",
        "         ('C',  100),\n",
        "         ('XC', 90),\n",
        "         ('L',  50),\n",
        "         ('XL', 40),\n",
        "         ('X',  10),\n",
        "         ('IX', 9),\n",
        "         ('V',  5),\n",
        "         ('IV', 4),\n",
        "         ('I',  1))  \n",
        "       result = ''\n",
        "       for roman, value in ROMANS:\n",
        "           while n >= value:\n",
        "               result += roman\n",
        "               n -= value\n",
        "       return result"
      ],
      "metadata": {
        "id": "hWvQAT8LAV4P"
      },
      "execution_count": null,
      "outputs": []
    },
    {
      "cell_type": "code",
      "source": [
        "# Remove common characters and concatenate\n",
        "\n",
        "class Solution:\n",
        "    def concatenatedString(self,s1,s2):\n",
        "      res = ''\n",
        "      for i in s1:\n",
        "        if i not in s2:\n",
        "          res += i\n",
        "      \n",
        "      for i in s2:\n",
        "        if i not in s1:\n",
        "          res += i\n",
        "    \n",
        "      return res if len(res) > 0 else -1\n"
      ],
      "metadata": {
        "id": "fJD09UM9zjNF"
      },
      "execution_count": null,
      "outputs": []
    },
    {
      "cell_type": "code",
      "source": [
        "# Uncommon characters\n",
        "\n",
        "class Solution:\n",
        "    def UncommonChars(self,A,B):\n",
        "        res = ''\n",
        "        for i in A:\n",
        "            if i not in B and i not in res:\n",
        "              res += i\n",
        "        \n",
        "        for i in B:\n",
        "            if i not in A and i not in res:\n",
        "              res += i\n",
        "        if len(res) > 0:\n",
        "            return ''.join(sorted(res))\n",
        "        else:\n",
        "            return -1\n"
      ],
      "metadata": {
        "id": "_hser-GtEeYD"
      },
      "execution_count": null,
      "outputs": []
    },
    {
      "cell_type": "code",
      "source": [
        "def isSubSequence(str1, str2):\n",
        "    m = len(str1)\n",
        "    n = len(str2)\n",
        "\n",
        "    j = 0    # Index of str1\n",
        "    i = 0    # Index of str2\n",
        "\n",
        "    while j < m and i < n:\n",
        "        if str1[j] == str2[i]:\n",
        "            j = j+1\n",
        "        i = i + 1\n",
        "    return j == m"
      ],
      "metadata": {
        "id": "CJ3jXzRmSIjW"
      },
      "execution_count": null,
      "outputs": []
    },
    {
      "cell_type": "code",
      "source": [
        "# longest substring containing '1'\n",
        "\n",
        "def maxlength(s):\n",
        "  s = s.split('0')\n",
        "  return len(max(s))"
      ],
      "metadata": {
        "id": "Sg1tVLw1rtlf"
      },
      "execution_count": null,
      "outputs": []
    },
    {
      "cell_type": "code",
      "source": [
        "# Remove character\n",
        "\n",
        "class Solution:\n",
        "    def removeChars (ob, string1, string2):\n",
        "        for i in string1:\n",
        "            for j in string2:\n",
        "                if i == j:\n",
        "                    string1 = string1.replace(i,'')\n",
        "        return string1"
      ],
      "metadata": {
        "id": "hwOqNlwNsGy8"
      },
      "execution_count": null,
      "outputs": []
    },
    {
      "cell_type": "code",
      "source": [
        "# Find first repeated character\n",
        "\n",
        "class Solution:\n",
        "    def firstRepChar(self, s):\n",
        "        list1 = []\n",
        "        for i in s:\n",
        "            if i not in list1:\n",
        "                list1.append(i)\n",
        "            else:\n",
        "                return i\n",
        "        return -1"
      ],
      "metadata": {
        "id": "wpglhd8tsGvX"
      },
      "execution_count": null,
      "outputs": []
    },
    {
      "cell_type": "code",
      "source": [
        "# Keypad Typing\n",
        "\n",
        "# Both Solutions Work\n",
        "\n",
        "def printNumber(s,n):\n",
        "    ans = ''\n",
        "    for i in s:\n",
        "        i.lower()\n",
        "        if i in 'abc':\n",
        "            ans += '2'\n",
        "        elif i in 'def':\n",
        "            ans += '3'\n",
        "        elif i in 'ghi':\n",
        "            ans += '4'\n",
        "        elif i in 'jkl':\n",
        "            ans += '5'\n",
        "        elif i in 'mno':\n",
        "            ans += '6'\n",
        "        elif i in 'pqrs':\n",
        "            ans += '7'\n",
        "        elif i in 'tuv':\n",
        "            ans += '8'\n",
        "        elif i in 'wxyz':\n",
        "            ans += '9'\n",
        "    return ans\n",
        "\n",
        "\n",
        "def printNumber(s,n):\n",
        "    ans = ''\n",
        "    dict1={'a': '2', 'b': '2', 'c': '2', 'd': '3', 'e': '3', \n",
        "        'f': '3', 'g': '4', 'h': '4', 'i': '4', 'j': '5', \n",
        "        'k': '5', 'l': '5', 'm': '6', 'n': '6', 'o': '6', \n",
        "        'p': '7', 'q': '7', 'r': '7', 's': '7', 't': '8', \n",
        "        'u': '8', 'v': '8', 'w': '9', 'x': '9', 'y': '9', \n",
        "        'z': '9'}\n",
        "    for i in s:\n",
        "        ans = ans + dict1[i]\n",
        "    return ans"
      ],
      "metadata": {
        "id": "yPyAP2p1sGsu"
      },
      "execution_count": null,
      "outputs": []
    },
    {
      "cell_type": "code",
      "source": [
        "# Change the string\n",
        "\n",
        "class Solution:\n",
        "    def modify(self, s):\n",
        "        if s[0].islower():\n",
        "            return s.lower()\n",
        "        elif s[0].isupper():\n",
        "            return s.upper()\n"
      ],
      "metadata": {
        "id": "YQAIqqPwsGqD"
      },
      "execution_count": null,
      "outputs": []
    },
    {
      "cell_type": "code",
      "source": [
        "s = 'geeksogeeks'\n",
        "from collections import Counter\n",
        "a = Counter(s)\n",
        "p = [i for i,x in a.items() if x%2==1]\n",
        "p\n",
        "if len(p)%2==0:\n",
        "    print('No') \n",
        "else:\n",
        "    print('Yes') "
      ],
      "metadata": {
        "id": "cU39EiSNsGnY",
        "colab": {
          "base_uri": "https://localhost:8080/"
        },
        "outputId": "5c2d35fb-619f-44c0-e053-a64abd8fa305"
      },
      "execution_count": null,
      "outputs": [
        {
          "output_type": "stream",
          "name": "stdout",
          "text": [
            "Yes\n"
          ]
        }
      ]
    },
    {
      "cell_type": "code",
      "source": [
        "# Anagram Palindrome\n",
        "\n",
        "class Solution:\n",
        "  def isPossible(self,S):\n",
        "    from collections import Counter\n",
        "    a = Counter(S)\n",
        "    p = [i for i,x in a.items() if x%2==1]\n",
        "    if len(p)>1:\n",
        "        return False\n",
        "    else:\n",
        "        return True\n"
      ],
      "metadata": {
        "id": "XyEYE9JisGlA"
      },
      "execution_count": null,
      "outputs": []
    },
    {
      "cell_type": "code",
      "source": [
        "# Extract Maximum\n",
        "\n",
        "class Solution:\n",
        "    def extractMaximum(self,S): \n",
        "        import re\n",
        "        nums = [int(i) for i in re.split('\\D',S) if len(i)>0]\n",
        "        if len(nums)>0:\n",
        "            return max(nums)\n",
        "        else:\n",
        "            return -1\n"
      ],
      "metadata": {
        "id": "389tBv6_sGim"
      },
      "execution_count": null,
      "outputs": []
    },
    {
      "cell_type": "code",
      "source": [
        "# Good or Bad string\n",
        "\n",
        "class Solution:\n",
        "    def isGoodorBad(self, S):\n",
        "        vowels = 'aeiou'\n",
        "        vcount = 0\n",
        "        ccount = 0\n",
        "        for i in S:\n",
        "            if i in vowels:\n",
        "                vcount +=1 \n",
        "                ccount = 0\n",
        "\n",
        "            elif i == '?':\n",
        "                vcount += 1\n",
        "                ccount += 1\n",
        "                \n",
        "            else:\n",
        "                vcount = 0\n",
        "                ccount += 1\n",
        "\n",
        "            if (vcount > 5) or (ccount > 3):\n",
        "                    return 0\n",
        "        else:\n",
        "            return 1"
      ],
      "metadata": {
        "id": "_K056lplsGfy"
      },
      "execution_count": null,
      "outputs": []
    },
    {
      "cell_type": "code",
      "source": [
        "# Count the characters\n",
        "\n",
        "class Solution:\n",
        "    def getCount (self,S, N):\n",
        "        new_l = []\n",
        "        for i in range(len(S)-1):\n",
        "            if S[i] != S[i+1]:\n",
        "                new_l.append(S[i])\n",
        "        new_l.append(S[-1])\n",
        "        from collections import Counter\n",
        "        dicta = Counter(new_l)\n",
        "        ans = [i for i,x in dicta.items() if x == N]\n",
        "        return len(ans)\n"
      ],
      "metadata": {
        "id": "Qn6jbuk824Bv"
      },
      "execution_count": null,
      "outputs": []
    },
    {
      "cell_type": "code",
      "source": [
        "# Merge two strings\n",
        "\n",
        "class Solution:\n",
        "    def merge(self,S1, S2):\n",
        "        merge = []\n",
        "        pos = 1\n",
        "        for i in S1:\n",
        "            merge.append(i)\n",
        "        for i in S2:\n",
        "            merge.insert(pos,i)\n",
        "            pos = pos + 2\n",
        "        return ''.join(merge)\n"
      ],
      "metadata": {
        "id": "aPyrSx3A3KTc"
      },
      "execution_count": null,
      "outputs": []
    },
    {
      "cell_type": "code",
      "source": [
        "# Find k-th character in string\n",
        "\n",
        "class Solution:\n",
        "  def kthCharacter(m, n, k):\n",
        "    binary = bin(m).replace('0b','')\n",
        "    temp = ''\n",
        "    for i in range(n):\n",
        "        for j in binary:\n",
        "            if j == '0':\n",
        "                temp += '01'\n",
        "            elif j == '1':\n",
        "                temp += '10'\n",
        "        binary = temp\n",
        "        temp = ''\n",
        "    return binary[k-1]\n"
      ],
      "metadata": {
        "id": "eTjpIa3T5y5e"
      },
      "execution_count": null,
      "outputs": []
    },
    {
      "cell_type": "code",
      "source": [
        "# Substrings with similar first and last characters\n",
        "\n",
        "# Method 1: Viable solution but passed only 10020 test cases (Time limit exceeded).\n",
        "\n",
        "class Solution:\n",
        "  def countSubstringWithEqualEnds(self, s):\n",
        "    count = 0\n",
        "    for i in range(len(s)):\n",
        "      for j in range(i+1,len(s)):\n",
        "        if s[i] == s[j]:\n",
        "          count += 1\n",
        "    return count+len(s)\n",
        "\n",
        "\n",
        "# Method 2: Passed All Test Cases. Ideal Solution.\n",
        "\n",
        "class Solution:\n",
        "  def countSubstringWithEqualEnds(self, s):\n",
        "    from collections import Counter\n",
        "    dicta = Counter(s)\n",
        "    add = sum([((x-1)*x//2) for i,x in dicta.items() if x > 1])\n",
        "    return add+len(s)"
      ],
      "metadata": {
        "id": "f4uXEmob6eRE"
      },
      "execution_count": null,
      "outputs": []
    },
    {
      "cell_type": "code",
      "source": [
        "# String Reversal\n",
        "\n",
        "class Solution:\n",
        "    def reverseString(self, s):\n",
        "        stri = s[::-1].replace(' ','')\n",
        "        rs = ''\n",
        "        for i in stri:\n",
        "          if i not in rs:\n",
        "            rs = rs+i\n",
        "        return rs\n"
      ],
      "metadata": {
        "id": "3iW3tmzV6oqP"
      },
      "execution_count": null,
      "outputs": []
    },
    {
      "cell_type": "code",
      "source": [
        "# Encrypt the string - 1\n",
        "\n",
        "class Solution:\n",
        "    def encryptString(self, s):\n",
        "        # code here\n",
        "        cnt=1\n",
        "        m=''\n",
        "        for i in range(len(s)-1):\n",
        "            if s[i]==s[i+1]:\n",
        "                cnt+=1\n",
        "            else:\n",
        "                m+=s[i]+str(cnt)\n",
        "                cnt=1\n",
        "        m+=s[-1]+str(cnt)\n",
        "        return m[::-1]\n"
      ],
      "metadata": {
        "id": "0p1Ph6Sg-ipE"
      },
      "execution_count": null,
      "outputs": []
    },
    {
      "cell_type": "code",
      "source": [
        "# Reverse a string with spaces intact\n",
        "\n",
        "class Solution:\n",
        "    def reverseWithSpacesIntact(self,s):\n",
        "        ind = [i for i,x in enumerate(s) if x == ' ']\n",
        "        if len(ind)>0:\n",
        "            rev_s = s[::-1].replace(\" \",'')\n",
        "            for i in ind:\n",
        "                rev_s = rev_s[:i] + ' ' + rev_s[i:]\n",
        "            return rev_s\n",
        "        else:\n",
        "            return s[::-1]"
      ],
      "metadata": {
        "id": "RMirRn6oOILy"
      },
      "execution_count": null,
      "outputs": []
    },
    {
      "cell_type": "code",
      "source": [
        "# Minimize string valuE\n",
        "\n",
        "class Solution:\n",
        "  def minValue(self, S, K):\n",
        "    from collections import Counter\n",
        "    c = Counter(S)\n",
        "    arr = list(c.values())\n",
        "    while K>0:\n",
        "        maxi = max(arr)\n",
        "        if maxi == 0:\n",
        "            return 0\n",
        "        i = arr.index(maxi)\n",
        "        arr[i] = maxi-1\n",
        "        K = K-1\n",
        "    sumx = 0\n",
        "    for i in arr:\n",
        "        sumx = sumx + i**2\n",
        "    return sumx"
      ],
      "metadata": {
        "id": "h3lcDT1-3718"
      },
      "execution_count": null,
      "outputs": []
    },
    {
      "cell_type": "code",
      "source": [
        "# Odd to Even\n",
        "\n",
        "class Solution:\n",
        "    def makeEven(self,s):\n",
        "        num = [int(i) for i in s]\n",
        "        a = []\n",
        "        ans = []\n",
        "        for i in range(len(num)):\n",
        "            a[:] = num[::]\n",
        "            if num[i] % 2 == 0:\n",
        "                a[i],a[-1] = a[-1],a[i]\n",
        "                c = [str(i) for i in a]\n",
        "                ans.append(int(''.join(c)))\n",
        "        if len(ans)>0:\n",
        "            return max(ans)\n",
        "        else:\n",
        "            return s\n",
        "\n",
        "class Solution:\n",
        "    def makeEven(self,s):\n",
        "        en = '02468'\n",
        "        s = list(s)\n",
        "        ans = []\n",
        "        for i in range(len(s)):\n",
        "            if s[i] in en:\n",
        "                s[i],s[-1] = s[-1],s[i]\n",
        "                ans.append(int(''.join(s)))\n",
        "                s[i],s[-1] = s[-1],s[i]\n",
        "                # return ans\n",
        "        if len(ans)>0:\n",
        "            return max(ans)\n",
        "        else:\n",
        "            return ''.join(s)\n",
        "\n",
        "\n",
        "class Solution:\n",
        "    def makeEven(self, s):\n",
        "        s = list(s)\n",
        "        first_e_i = -1\n",
        "        last_e_i = -1\n",
        "        last_n_i = len(s) - 1\n",
        "     \n",
        "        for i in range(len(s)):\n",
        "            if (int(s[i]) % 2 == 0 and int(s[i]) < int(s[last_n_i])):\n",
        "                first_e_i = i\n",
        "                break\n",
        "                 \n",
        "            if int(s[i]) % 2 == 0:\n",
        "                last_e_i = i\n",
        "                \n",
        "        if first_e_i != -1:\n",
        "            s[first_e_i], s[last_n_i] = s[last_n_i],s[first_e_i]\n",
        "                               \n",
        "            return ''.join(s)\n",
        "            \n",
        "        if first_e_i == -1 and last_e_i != -1:\n",
        "            s[last_e_i],s[last_n_i] = s[last_n_i],s[last_e_i]\n",
        "            return ''.join(s)\n",
        "             \n",
        "        return ''.join(s)    "
      ],
      "metadata": {
        "id": "TTkRaPlReRjb"
      },
      "execution_count": null,
      "outputs": []
    },
    {
      "cell_type": "code",
      "source": [
        "# Replace the Bit\n",
        "\n",
        "class Solution:\n",
        "    def replaceBit(self,N, K):\n",
        "        binum = bin(N).replace('0b','')\n",
        "        for i in range(1,len(binum)+1):\n",
        "            if i == K and binum[i-1] == '1':\n",
        "              ans = binum[:i-1] + '0' + binum[i:]\n",
        "              return int(ans,2)\n",
        "        else:\n",
        "            return N\n"
      ],
      "metadata": {
        "id": "SwvijouH2ywu"
      },
      "execution_count": null,
      "outputs": []
    },
    {
      "cell_type": "code",
      "source": [
        "# Maximum Integer Value\n",
        "\n",
        "class Solution:\n",
        "    def MaximumIntegerValue(self,s):\n",
        "        s = [int(i) for i in s]\n",
        "        if len(s) == 1:\n",
        "            return s[0]\n",
        "        else:\n",
        "            for i in range(len(s)-1):\n",
        "                if i == 0:\n",
        "                  add = s[i] + s[i+1]\n",
        "                  mul = s[i] * s[i+1]\n",
        "                  temp = max(add,mul)\n",
        "                else:\n",
        "                  add = temp + s[i+1]\n",
        "                  mul = temp * s[i+1]\n",
        "                  temp = max(add,mul)\n",
        "            return temp"
      ],
      "metadata": {
        "id": "RbXlh_vHx7aa"
      },
      "execution_count": null,
      "outputs": []
    },
    {
      "cell_type": "code",
      "source": [
        "# Shortest direction\n",
        "\n",
        "class Solution:\n",
        "   def shortestPath(self, s):\n",
        "       N, S, E, W = 0, 0, 0, 0\n",
        "       st = \"\"\n",
        "       for i in s:\n",
        "           if i == \"N\":\n",
        "               N += 1\n",
        "           elif i == \"S\":\n",
        "               S += 1\n",
        "           elif i == \"E\":\n",
        "               E += 1\n",
        "           else:\n",
        "               W += 1\n",
        "       \n",
        "       if E > W:\n",
        "           st += \"E\"* (E - W)\n",
        "       if N > S:\n",
        "           st += \"N\"* (N - S)\n",
        "       if S > N:\n",
        "           st += \"S\"* (S - N)\n",
        "       if W > E:\n",
        "           st += \"W\"* (W - E)\n",
        "       \n",
        "       return st"
      ],
      "metadata": {
        "id": "dAo0PP8Pv7tP"
      },
      "execution_count": null,
      "outputs": []
    },
    {
      "cell_type": "code",
      "source": [
        "# Difficulty of sentence\n",
        "\n",
        "class Solution:\n",
        "  def calcDiff(self, S):\n",
        "    sent = S.split(' ')\n",
        "    h  = 0\n",
        "    e = 0\n",
        "    vowels = 'AEIOUaeiou'\n",
        "    for word in sent:\n",
        "      c = ''\n",
        "      v = ''\n",
        "      count = 0\n",
        "      for letter in word:\n",
        "        if letter not in vowels:\n",
        "          c += letter\n",
        "          count += 1\n",
        "          if count > 4:\n",
        "            h += 1\n",
        "            break\n",
        "        else:\n",
        "          v += letter\n",
        "          count = 0\n",
        "\n",
        "      if count>=4:\n",
        "        h += 1\n",
        "      else:\n",
        "        if len(c) > len(v):\n",
        "          h += 1\n",
        "        else:\n",
        "          e += 1\n",
        "    return (5*h) + (3*e)\n"
      ],
      "metadata": {
        "id": "AYyxCduTUb5z"
      },
      "execution_count": null,
      "outputs": []
    }
  ]
}