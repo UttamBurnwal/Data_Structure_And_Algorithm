{
  "nbformat": 4,
  "nbformat_minor": 0,
  "metadata": {
    "colab": {
      "name": "Geeks for Geeks DSA Array",
      "provenance": [],
      "collapsed_sections": []
    },
    "kernelspec": {
      "name": "python3",
      "display_name": "Python 3"
    },
    "language_info": {
      "name": "python"
    }
  },
  "cells": [
    {
      "cell_type": "markdown",
      "source": [
        "## School"
      ],
      "metadata": {
        "id": "YDUINCmzMN2M"
      }
    },
    {
      "cell_type": "code",
      "execution_count": null,
      "metadata": {
        "id": "23DDh65yL5s2"
      },
      "outputs": [],
      "source": [
        "# Print Aletrnate Element of a Array\n",
        "\n",
        "def printAl(arr,n):\n",
        "    for i in range(0,n,2):\n",
        "        print(arr[i],end=\" \")"
      ]
    },
    {
      "cell_type": "code",
      "source": [
        "# Finding Second Largest Element\n",
        "\n",
        "class Solution:\n",
        "\n",
        "\tdef print2largest(self,arr, n):\n",
        "\t\tarr = list(set(arr))\n",
        "\t\tarr.sort()\n",
        "\t\tif len(arr) == 0:\n",
        "\t\t    return -1\n",
        "\t\telif len(arr) == 1:\n",
        "\t\t    return -1\n",
        "\t\telse:\n",
        "\t\t    return arr[-2]"
      ],
      "metadata": {
        "id": "Fcby2Zw0MDxL"
      },
      "execution_count": null,
      "outputs": []
    },
    {
      "cell_type": "code",
      "source": [
        "# Value equal to index value\n",
        "\n",
        "class Solution:\n",
        "  def valueEqualToIndex(self,arr, n):\n",
        "    a = []\n",
        "    for i in range(n):\n",
        "      if arr[i] == i+1:\n",
        "        a.append(i+1)\n",
        "    print(a)"
      ],
      "metadata": {
        "id": "Re-ThXqsMS5r"
      },
      "execution_count": null,
      "outputs": []
    },
    {
      "cell_type": "code",
      "source": [
        "# Palindromic Array\n",
        "\n",
        "def PalinArray(arr ,n):\n",
        "    for i in arr:\n",
        "        if str(i) != str(i)[::-1]:\n",
        "            return 0\n",
        "            break\n",
        "    else:\n",
        "        return 1\n"
      ],
      "metadata": {
        "id": "vIE2QkSoMUTB"
      },
      "execution_count": null,
      "outputs": []
    },
    {
      "cell_type": "code",
      "source": [
        "# Sum of Array\n",
        "\n",
        "class Solution:\n",
        "    def getSum(self, arr, n):\n",
        "        return sum(arr)"
      ],
      "metadata": {
        "id": "ZgaUgdjYW1uV"
      },
      "execution_count": null,
      "outputs": []
    },
    {
      "cell_type": "code",
      "source": [
        "# Sum of Series\n",
        "\n",
        "class Solution:\n",
        "\tdef seriesSum(self,n):\n",
        "\t    return (n*(n+1)//2)"
      ],
      "metadata": {
        "id": "iM3FzRO0RoPM"
      },
      "execution_count": null,
      "outputs": []
    },
    {
      "cell_type": "code",
      "source": [
        "# Count of smaller elements\n",
        "\n",
        "def countOfElements( a, n, x):\n",
        "  count = 0\n",
        "  for i in range(n):\n",
        "    if a[i] <= x:\n",
        "      count = count + 1\n",
        "  return count"
      ],
      "metadata": {
        "id": "xWJHJDwzTNBi"
      },
      "execution_count": null,
      "outputs": []
    },
    {
      "cell_type": "code",
      "source": [
        "# Print an element\n",
        "\n",
        "def findElementAtIndex(a,n,k):\n",
        "  return a[k]"
      ],
      "metadata": {
        "id": "vlTxIH3uiyj1"
      },
      "execution_count": null,
      "outputs": []
    },
    {
      "cell_type": "code",
      "source": [
        "# Print Elements of Array\n",
        "\n",
        "class Solution:\n",
        "\tdef printArray(self,arr, n):\n",
        "\t    for i in range(n):\n",
        "\t        print(arr[i],end=\" \")"
      ],
      "metadata": {
        "id": "6oIvExe0V1aF"
      },
      "execution_count": null,
      "outputs": []
    },
    {
      "cell_type": "code",
      "source": [
        "# Display longest name\n",
        "\n",
        "def longest(names, n):\n",
        "  a = []\n",
        "  for i in range(n):\n",
        "    a.append(len(names[i]))\n",
        "  k = a.index(max(a))\n",
        "  return names[k] "
      ],
      "metadata": {
        "id": "694xMff4V4n-"
      },
      "execution_count": null,
      "outputs": []
    },
    {
      "cell_type": "code",
      "source": [
        "# Swap kth elements\n",
        "\n",
        "def swapKth(arr, n, k):\n",
        "  a = arr[k-1]\n",
        "  b = arr[-k]\n",
        "  arr[k-1] = b\n",
        "  arr[-k] = a\n",
        "  return arr"
      ],
      "metadata": {
        "id": "XcmRJyX9Z2Hl"
      },
      "execution_count": null,
      "outputs": []
    },
    {
      "cell_type": "code",
      "source": [
        "# Find Index\n",
        "\n",
        "class Solution:\n",
        "    def findIndex (self,a, N, key ):\n",
        "        if key not in a:\n",
        "            start = end = -1\n",
        "            return start, end\n",
        "        elif a.count(key) == 1:\n",
        "            start = end = a.index(key)\n",
        "            return start, end \n",
        "        else:\n",
        "            start = a.index(key)\n",
        "            end = N - a[::-1].index(key) - 1\n",
        "            return start, end "
      ],
      "metadata": {
        "id": "gBV0ZZfCc6Sn"
      },
      "execution_count": null,
      "outputs": []
    },
    {
      "cell_type": "code",
      "source": [
        "# Smaller and Larger\n",
        "\n",
        "def getMoreAndLess(arr, n, x):\n",
        "  counts = 0\n",
        "  countl = 0\n",
        "  for i in range(n):\n",
        "    if arr[i] <= x:\n",
        "      counts = counts + 1\n",
        "    if arr[i] >= x:\n",
        "      countl = countl + 1\n",
        "  return counts,countl"
      ],
      "metadata": {
        "id": "yuKVt1VaxkpQ"
      },
      "execution_count": null,
      "outputs": []
    },
    {
      "cell_type": "code",
      "source": [
        "# At least two greater elements\n",
        "\n",
        "class Solution:\n",
        "    def findElements(self,a, n):\n",
        "        a.sort()\n",
        "        a = a[:n-2]\n",
        "        return a"
      ],
      "metadata": {
        "id": "uFM5nyl5zJUy"
      },
      "execution_count": null,
      "outputs": []
    },
    {
      "cell_type": "code",
      "source": [
        "# Perfect Arrays\n",
        "\n",
        "class Solution:\n",
        "    def IsPerfect(self,arr,n):\n",
        "        if arr[:n] == arr[::-1]:\n",
        "            return True\n",
        "        else:\n",
        "            return False"
      ],
      "metadata": {
        "id": "QCgHeHXkzJR4"
      },
      "execution_count": null,
      "outputs": []
    },
    {
      "cell_type": "code",
      "source": [
        "# Print the left element\n",
        "\n",
        "class Solution:\n",
        "    def leftElement(self,arr, n):\n",
        "      arr.sort()\n",
        "      if n % 2 == 1:\n",
        "        return arr[n//2]\n",
        "      else:\n",
        "        return arr[(n//2)-1]"
      ],
      "metadata": {
        "id": "8mGK1BLyzJPI"
      },
      "execution_count": null,
      "outputs": []
    },
    {
      "cell_type": "code",
      "source": [
        "# Fascinating Numbers\n",
        "\n",
        "def fascinating(n):\n",
        "  nc = str(n) + str(n*2) + str(n*3)\n",
        "  lnc = list(nc)\n",
        "  lnc.sort()\n",
        "  num = [str(x) for x in range(1,10)]\n",
        "  if lnc == num:\n",
        "    return True\n",
        "  else:\n",
        "    return False\n"
      ],
      "metadata": {
        "id": "LocLT0E0zJMr"
      },
      "execution_count": null,
      "outputs": []
    },
    {
      "cell_type": "code",
      "source": [
        "# Average in a Stream\n",
        "\n",
        "def streamAvg(arr, n):\n",
        "  a = []\n",
        "  sum = 0\n",
        "  for i in range(n):\n",
        "    sum = sum + arr[i]\n",
        "    a.append(sum/(i+1))\n",
        "  return a\n"
      ],
      "metadata": {
        "id": "NlJdYo2LzJKL"
      },
      "execution_count": null,
      "outputs": []
    },
    {
      "cell_type": "code",
      "source": [
        "# Java Arrays | Set 1\n",
        "\n",
        "def average(a,n):\n",
        "  import numpy as np\n",
        "  s = sum(a)\n",
        "  avg = s/n\n",
        "  return s,np.round(avg,2)\n"
      ],
      "metadata": {
        "id": "uXWYTF1Pk08x"
      },
      "execution_count": null,
      "outputs": []
    },
    {
      "cell_type": "code",
      "source": [
        "# Compete the skills\n",
        "\n",
        "class Solution:\n",
        "    def scores(self, a, b, cc):\n",
        "        if len(a) == len(b) == 3:\n",
        "            ca = 0\n",
        "            cb = 0\n",
        "            for i in range(3):\n",
        "                if a[i] > b[i]:\n",
        "                    ca = ca + 1\n",
        "                elif a[i] < b[i]:\n",
        "                    cb = cb + 1\n",
        "            cc[0] = ca\n",
        "            cc[1] = cb\n",
        "        return cc\n"
      ],
      "metadata": {
        "id": "RHnWPNOiYj1D"
      },
      "execution_count": null,
      "outputs": []
    },
    {
      "cell_type": "code",
      "source": [
        "# C++ 2-D Arrays | Set-1\n",
        "\n",
        "def transpose(a,n):\n",
        "  cc = a.transpose()\n",
        "  t = []\n",
        "  for i in range(n):\n",
        "    for j in range(n):\n",
        "      t.append(cc[i][j])\n",
        "  return t "
      ],
      "metadata": {
        "id": "HyizivVyeToA"
      },
      "execution_count": null,
      "outputs": []
    },
    {
      "cell_type": "markdown",
      "source": [
        "## Basic\n",
        "\n",
        "Amazon \n",
        "Microsoft \n",
        "Flipkart \n",
        "Adobe \n",
        "Google \n",
        "Samsung \n",
        "Accolite \n",
        "MakeMyTrip \n",
        "Zoho \n",
        "Snapdeal \n",
        "Paytm \n",
        "Morgan Stanley \n",
        "Goldman Sachs \n",
        "Walmart \n",
        "OYO Rooms \n",
        "Qualcomm \n",
        "Facebook \n",
        "Visa \n",
        "Basic "
      ],
      "metadata": {
        "id": "8XZuD13pMS8e"
      }
    },
    {
      "cell_type": "code",
      "source": [
        "# Binary Search\n",
        "\n",
        "class Solution:\n",
        "  def binarysearch(self,arr, n, k):\n",
        "    if k in arr:\n",
        "      return arr.index(k)\n",
        "    else:\n",
        "      return -1"
      ],
      "metadata": {
        "id": "K7ntLrDgv0k8"
      },
      "execution_count": null,
      "outputs": []
    },
    {
      "cell_type": "code",
      "source": [
        "# Find triplets with zero sum\n",
        "\n",
        "def findTriplets(arr, n):\n",
        "  arr.sort()\n",
        "  # return arr\n",
        "  for i in range(n-1):\n",
        "    low = i + 1\n",
        "    high = n - 1\n",
        "    \n",
        "    while low < high:\n",
        "      sum = arr[i] + arr[high] + arr[low]\n",
        "      if sum == 0:\n",
        "        return 1\n",
        "      elif sum > 0:\n",
        "        high = high - 1\n",
        "      else:\n",
        "        low = low + 1\n",
        "  return 0"
      ],
      "metadata": {
        "id": "r5aHO_AqMUix"
      },
      "execution_count": null,
      "outputs": []
    },
    {
      "cell_type": "code",
      "source": [
        "# Minimum distance between two numbers\n",
        "\n",
        "class Solution:\n",
        "    def minDist(self,arr, n, x, y):\n",
        "        if (x in arr) and (y in arr):\n",
        "            a = [i for i,p in enumerate(arr) if p == x]\n",
        "            b = [i for i,q in enumerate(arr) if q == y]\n",
        "            min_d = []\n",
        "            for i in range(len(a)):\n",
        "                for j in range(len(b)):\n",
        "                    d = (a[i] - b[j]) \n",
        "                    if d >= 0:\n",
        "                        min_d.append(d)\n",
        "                    else:\n",
        "                        min_d.append(-d)\n",
        "            return min(min_d)\n",
        "        else:\n",
        "            return -1"
      ],
      "metadata": {
        "id": "taMjjd03OPqJ"
      },
      "execution_count": null,
      "outputs": []
    },
    {
      "cell_type": "code",
      "source": [
        "# Reverse array in groups\n",
        "\n",
        "# The first solution is sufficient to work but I don't know why GFG compiler isn't accepting the first solution so go with the second. Not much difference.\n",
        "\n",
        "# Solution 1\n",
        "\n",
        "class Solution:\n",
        "  def reverseInGroups(self,arr,N,K):\n",
        "    rev = []\n",
        "    for i in range(0,N,K):\n",
        "      rev = rev + arr[i:i+K][::-1]\n",
        "    return rev\n",
        "\n",
        "# Solution 2\n",
        "\n",
        "class Solution:\n",
        "  def reverseInGroups(self,arr,N,K):\n",
        "    rev = []\n",
        "    for i in range(0,N,K):\n",
        "      rev = rev + arr[i:i+K][::-1]\n",
        "    for i in range(len(rev)):\n",
        "        arr[i] = rev[i]\n",
        "    return arr"
      ],
      "metadata": {
        "id": "uip3QbRVqHnl"
      },
      "execution_count": null,
      "outputs": []
    },
    {
      "cell_type": "code",
      "source": [
        "# First and last occurrences of x\n",
        "\n",
        "def find(arr,n,x):\n",
        "    if x in arr:\n",
        "        index = [i for i,X in enumerate(arr) if X == x]\n",
        "        return min(index), max(index)\n",
        "    else:\n",
        "        return -1,-1"
      ],
      "metadata": {
        "id": "dV49A1jvrBq0"
      },
      "execution_count": null,
      "outputs": []
    },
    {
      "cell_type": "code",
      "source": [
        "# Implement stack using array\n",
        "\n",
        "class MyStack:\n",
        "    \n",
        "    def __init__(self):\n",
        "        self.arr=[]\n",
        "    \n",
        "    #Function to push an integer into the stack.\n",
        "    def push(self,data):\n",
        "        if len(self.arr) == s:\n",
        "            return -1\n",
        "        else:\n",
        "            return self.arr.append(data)\n",
        "    \n",
        "    #Function to remove an item from top of the stack.\n",
        "    def pop(self):\n",
        "        if len(self.arr) > 0:\n",
        "            return self.arr.pop()\n",
        "        else:\n",
        "            return -1\n",
        "        "
      ],
      "metadata": {
        "id": "XP8U_q1hvQbx"
      },
      "execution_count": null,
      "outputs": []
    },
    {
      "cell_type": "code",
      "source": [
        "# Check if two arrays are equal or not\n",
        "\n",
        "class Solution:\n",
        "    #Function to check if two arrays are equal or not.\n",
        "    def check(self,A,B,N):\n",
        "        A.sort()\n",
        "        B.sort()\n",
        "        if len(A) == len(B):\n",
        "            if A == B:\n",
        "                return 1\n",
        "            else:\n",
        "                return 0\n",
        "        else:\n",
        "            return 0"
      ],
      "metadata": {
        "id": "U2R9lCwN1KtZ"
      },
      "execution_count": null,
      "outputs": []
    },
    {
      "cell_type": "code",
      "source": [
        "# Implement Queue using array\n",
        "\n",
        "class MyQueue:\n",
        "\n",
        "  def __init__(self):\n",
        "    self.arr=[]\n",
        "    \n",
        "  #Function to push an element x in a queue.\n",
        "  def push(self, x):\n",
        "    return self.arr.append(x)\n",
        "\n",
        "  def pop(self): \n",
        "    if len(self.arr) == 0:\n",
        "      return -1\n",
        "    else:\n",
        "      return self.arr.pop(0) "
      ],
      "metadata": {
        "id": "betBNicS8jKr"
      },
      "execution_count": null,
      "outputs": []
    },
    {
      "cell_type": "code",
      "source": [
        "# Third Largest\n",
        "\n",
        "class Solution:\n",
        "  def thirdLargest(self,a, n):\n",
        "    a = list(set(a))\n",
        "    a.sort()\n",
        "    if len(a) > 2:\n",
        "      return a[-3]\n",
        "    else:\n",
        "      return -1"
      ],
      "metadata": {
        "id": "nvLHQFmR9YnM"
      },
      "execution_count": null,
      "outputs": []
    },
    {
      "cell_type": "code",
      "source": [
        "# Replace all 0's with 5\n",
        "\n",
        "def convertFive(n):\n",
        "  a = list(str(n))\n",
        "  if '0' in a:\n",
        "    index = [i for i,x in enumerate(a) if x == \"0\"]\n",
        "    for i in index:\n",
        "      a[i] = 5\n",
        "    for i in a:\n",
        "      print(i,end=\"\")\n",
        "  else:\n",
        "    return n\n"
      ],
      "metadata": {
        "id": "Y-nJ56GO9bvd"
      },
      "execution_count": null,
      "outputs": []
    },
    {
      "cell_type": "code",
      "source": [
        "# Number of occurrence\n",
        "\n",
        "class Solution:\n",
        "  def count(self,arr, n, x):\n",
        "    if x in arr:\n",
        "      count = 0\n",
        "      for i in arr:\n",
        "        if i == x:\n",
        "          count = count + 1\n",
        "      return count\n",
        "    else:\n",
        "      return 0"
      ],
      "metadata": {
        "id": "epenFcJny6WA"
      },
      "execution_count": null,
      "outputs": []
    },
    {
      "cell_type": "code",
      "source": [
        "# Binary Array Sorting\n",
        "\n",
        "class Solution: \n",
        "  def binSort(self,A, N):\n",
        "    A.sort()\n",
        "    return A\n"
      ],
      "metadata": {
        "id": "37t5XAfEzvos"
      },
      "execution_count": null,
      "outputs": []
    },
    {
      "cell_type": "code",
      "source": [
        "# Convert array into Zig-Zag fashion\n",
        "\n",
        "class Solution:\n",
        "  def zigZag(arr, n):\n",
        "    for i in range(n-1):\n",
        "      if i%2 == 1:\n",
        "        if arr[i] < arr[i+1]:\n",
        "          arr[i],arr[i+1] = arr[i+1],arr[i]\n",
        "      else:\n",
        "        if arr[i] > arr[i+1]:\n",
        "          arr[i],arr[i+1] = arr[i+1],arr[i]\n",
        "    return arr\n",
        "\n"
      ],
      "metadata": {
        "id": "p96pUGDQ1R8i"
      },
      "execution_count": null,
      "outputs": []
    },
    {
      "cell_type": "code",
      "source": [
        "# Pythagorean Triplet\n",
        "\n",
        "class Solution:\n",
        "    def checkTriplet(self,arr, n):\n",
        "        \tsq = [x*x for x in arr]\n",
        "        \ts = set(sq)\n",
        "        \tfor i in range(n):\n",
        "        \t    for j in range(i+1, n):\n",
        "        \t        diff = sq[i] + sq[j]\n",
        "        \t        if diff in s:\n",
        "        \t            return True\n",
        "        \treturn False\n",
        "\n",
        "\n"
      ],
      "metadata": {
        "id": "Prjmn5aqJMsn"
      },
      "execution_count": null,
      "outputs": []
    },
    {
      "cell_type": "code",
      "source": [
        "# Maximum in Struct Array\n",
        "\n",
        "def findMax(a1,a2):\n",
        "  for i in range(2):\n",
        "    h1 = a1[i]*12 + a1[i+1]\n",
        "    h2 = a2[i]*12 + a2[i+1]\n",
        "    a = [h1,h2]\n",
        "    return max(a)\n",
        "    "
      ],
      "metadata": {
        "id": "y-a3Dy4-JOOu"
      },
      "execution_count": null,
      "outputs": []
    },
    {
      "cell_type": "code",
      "source": [
        "# Product of maximum in first array and minimum in second\n",
        "\n",
        "class Solution:\n",
        "    def find_multiplication (self, arr, brr, n, m) : \n",
        "        if (n > 0) and (m > 0):\n",
        "            large = max(arr)\n",
        "            small = min(brr)\n",
        "            return (large*small)\n",
        "\n"
      ],
      "metadata": {
        "id": "hdWuhs56P6XS"
      },
      "execution_count": null,
      "outputs": []
    },
    {
      "cell_type": "code",
      "source": [
        "# Elements in the range\n",
        "\n",
        "def check_elements(arr, n, A, B):\n",
        "    for i in range(A,B+1):\n",
        "        if i in arr:\n",
        "          return True\n",
        "    else:\n",
        "      return False\n"
      ],
      "metadata": {
        "id": "2Hk9kY8rJ16f"
      },
      "execution_count": null,
      "outputs": []
    },
    {
      "cell_type": "code",
      "source": [
        "# Fighting the Darkness\n",
        "\n",
        "class Solution:\n",
        "    def maxDays(self, arr, n):\n",
        "      return max(arr)"
      ],
      "metadata": {
        "id": "yj0NxdTsdF1s"
      },
      "execution_count": null,
      "outputs": []
    },
    {
      "cell_type": "code",
      "source": [
        "# Exceptionally odd\n",
        "\n",
        "# The procedure of the solution is correct. It gives out the correct output however the time limit exceeds.\n",
        "class Solution:\n",
        "    def getOddOccurrence(self,arr, n):\n",
        "        unique = list(set(arr))\n",
        "        c = []\n",
        "        for i in unique:\n",
        "            c.append([i,arr.count(i)])\n",
        "        a = [i for i,x in c if x%2==1]\n",
        "        return a[0]\n",
        "\n",
        "# This is correct solution\n",
        "class Solution:\n",
        "    def getOddOccurrence(self, arr, n):\n",
        "        # code here \n",
        "        ans = arr[0]\n",
        "        for i in range(1, n):\n",
        "            ans ^= arr[i]\n",
        "        return ans "
      ],
      "metadata": {
        "id": "aEOH3lnpdK7x"
      },
      "execution_count": null,
      "outputs": []
    },
    {
      "cell_type": "code",
      "source": [
        "# Immediate Smaller Element\n",
        "\n",
        "class Solution:\n",
        "  def immediateSmaller(arr,n):\n",
        "    c = []\n",
        "    for i in range(n-1):\n",
        "      if arr[i] > arr[i+1]:\n",
        "        c.append(arr[i+1])\n",
        "      else:\n",
        "        c.append(-1)\n",
        "    c.append(-1)\n",
        "    for i in range(len(c)):\n",
        "        arr[i] = c[i]\n",
        "    return arr\n",
        "\n"
      ],
      "metadata": {
        "id": "8umtr6sdxb1U"
      },
      "execution_count": null,
      "outputs": []
    },
    {
      "cell_type": "code",
      "source": [
        "# First and last occurrences of X\n",
        "\n",
        "class Solution: \n",
        "    def firstAndLast(self,arr, n, x):\n",
        "        if x not in arr:\n",
        "            return [-1]\n",
        "        else:\n",
        "            pos = [i for i,X in enumerate(arr) if X == x]\n",
        "            return min(pos), max(pos)"
      ],
      "metadata": {
        "id": "0u6SYIisy3jm"
      },
      "execution_count": null,
      "outputs": []
    },
    {
      "cell_type": "code",
      "source": [
        "# Find the smallest and second smallest element in an array\n",
        "\n",
        "def minAnd2ndMin( a, n):\n",
        "  if n>=2:\n",
        "    arr = list(set(a))\n",
        "    arr.sort()\n",
        "    if len(arr)>=2:\n",
        "        return [arr[0],arr[1]]\n",
        "    else:\n",
        "        return [-1,1]\n",
        "  else:\n",
        "    return [-1,1]"
      ],
      "metadata": {
        "id": "yC2r7py81OI0"
      },
      "execution_count": null,
      "outputs": []
    },
    {
      "cell_type": "code",
      "source": [
        "# Index of first 1 in a sorted array of 0s and 1s\n",
        "\n",
        "class Solution:\n",
        "    def firstIndex(self,arr, n):\n",
        "        if 1 in arr:\n",
        "            x = [i for i,x in enumerate(arr) if x == 1]\n",
        "            return min(x)\n",
        "        else:\n",
        "            return -1"
      ],
      "metadata": {
        "id": "gBoD8KocxbH_"
      },
      "execution_count": null,
      "outputs": []
    },
    {
      "cell_type": "code",
      "source": [
        "# Total count\n",
        "\n",
        "class Solution:\n",
        "    def totalCount(self, arr, n, k):\n",
        "        c = []\n",
        "        for i in arr:\n",
        "            if i <= k:\n",
        "              c.append(1)\n",
        "            elif (i > k) and (i%k != 0):\n",
        "              c.append((i//k)+1)\n",
        "            elif (i > k) and (i%k == 0):\n",
        "              c.append(i//k)\n",
        "        return sum(c)"
      ],
      "metadata": {
        "id": "5oxDMWL1xbFH"
      },
      "execution_count": null,
      "outputs": []
    },
    {
      "cell_type": "code",
      "source": [
        "# Arranging the array\n",
        "\n",
        "def Rearrange( a, n):\n",
        "  arr = []\n",
        "  arr[:] = a[::]\n",
        "  a.clear()\n",
        "  index = 0\n",
        "  for i in arr:\n",
        "    if i < 0:\n",
        "      a.insert(index,i)\n",
        "      index = index+1\n",
        "    else:\n",
        "      a.append(i)\n",
        "  return a\n"
      ],
      "metadata": {
        "id": "F1g6_dKPxbCk"
      },
      "execution_count": null,
      "outputs": []
    },
    {
      "cell_type": "code",
      "source": [
        "# Maximum product of two numbers\n",
        "\n",
        "class Solution:\n",
        "\tdef maxProduct(self,arr, n):\n",
        "\t\tarr.sort()\n",
        "\t\treturn arr[-1]*arr[-2]"
      ],
      "metadata": {
        "id": "HhlHBEXN7YD0"
      },
      "execution_count": null,
      "outputs": []
    },
    {
      "cell_type": "code",
      "source": [
        "# Greater on right side\n",
        "\n",
        "class Solution:\n",
        "\n",
        "\tdef nextGreatest(self,arr, n):\n",
        "\t    m = max(arr[1:])\n",
        "\t    for i in range(n-1):\n",
        "\t        if arr[i]!=m:\n",
        "\t            arr[i]=m\n",
        "\t        else:\n",
        "\t            m = max(arr[i+1:])\n",
        "\t            arr[i]=m\n",
        "\t    arr[n-1]=-1\n",
        "\t    return arr"
      ],
      "metadata": {
        "id": "IDH3IWfi9vZA"
      },
      "execution_count": null,
      "outputs": []
    },
    {
      "cell_type": "code",
      "source": [
        "# Missing number\n",
        "\n",
        "def missingNumber( A, N):\n",
        "   N = len(A) + 1\n",
        "   sumall = sum(A)\n",
        "   total = N*(N+1)//2\n",
        "   return (total - sumall)"
      ],
      "metadata": {
        "id": "W-dH1wLjFUqr"
      },
      "execution_count": null,
      "outputs": []
    },
    {
      "cell_type": "code",
      "source": [
        "# Segregate Even and Odd number\n",
        "\n",
        "def segregateEvenOdd(arr, n):\n",
        "        arr.sort()\n",
        "        even = []\n",
        "        odd = []\n",
        "        for i in arr:\n",
        "            if i%2==0:\n",
        "              even.append(i)\n",
        "            else:\n",
        "              odd.append(i)\n",
        "        result = even + odd\n",
        "        for i in range(n):\n",
        "            arr[i] = result[i]\n",
        "        return arr"
      ],
      "metadata": {
        "id": "VsJe3YobC19W"
      },
      "execution_count": null,
      "outputs": []
    },
    {
      "cell_type": "code",
      "source": [
        "# Maximum repeating number\n",
        "\n",
        "class Solution:\n",
        "    def maxRepeating(self,arr, n, k):\n",
        "        dict ={}\n",
        "        frequency = 0\n",
        "        element = 0\n",
        "        arr.sort()\n",
        "        for i in arr:\n",
        "            dict.setdefault(i,0)\n",
        "            dict[i] = dict[i] + 1\n",
        "        \n",
        "        for key, value in dict.items():\n",
        "            if value > frequency:\n",
        "                frequency = value\n",
        "                element = key\n",
        "               \n",
        "        return element"
      ],
      "metadata": {
        "id": "gktD4WgPD1w-"
      },
      "execution_count": null,
      "outputs": []
    },
    {
      "cell_type": "code",
      "source": [
        "# Alternative Sorting\n",
        "\n",
        "class Solution:\n",
        "    def alternateSort(self,arr, N):\n",
        "        arr.sort()\n",
        "        a[:] = arr[::]\n",
        "        lv = []\n",
        "        hv = []\n",
        "        mid = N//2\n",
        "        lv[:] = arr[0:mid]\n",
        "        hv[:] = arr[mid:N]\n",
        "        hv.sort(reverse= True)\n",
        "        i = 0\n",
        "        j = 0\n",
        "        for k in lv:\n",
        "          a[i+1] = k\n",
        "          i = i + 2\n",
        "        for l in hv:\n",
        "          a[j] = l\n",
        "          j = j + 2\n",
        "        return a\n"
      ],
      "metadata": {
        "id": "tSWmKleRkUrs"
      },
      "execution_count": null,
      "outputs": []
    },
    {
      "cell_type": "code",
      "source": [
        "# Sort in specific order\n",
        "\n",
        "class Solution:\n",
        "    def sortIt(self,arr, n):\n",
        "        arr.sort()\n",
        "        a = []\n",
        "        a[:] = arr[::]\n",
        "        arr.clear()\n",
        "        for i in a:\n",
        "            if i %2 == 1:\n",
        "              arr.insert(0,i)\n",
        "            else:\n",
        "              arr.append(i)\n",
        "        return arr\n",
        "\n"
      ],
      "metadata": {
        "id": "JkwBsXN2J2NL"
      },
      "execution_count": null,
      "outputs": []
    },
    {
      "cell_type": "code",
      "source": [
        "def alternateSort(arr, N):\n",
        "  a = []\n",
        "  for i in range(N):\n",
        "    if i % 2 == 0:\n",
        "      a[i] = max(arr[i:])\n",
        "    else:\n",
        "      a[i] = min(arr[i:])\n",
        "  return a"
      ],
      "metadata": {
        "id": "FeaxkrbcJ93Q"
      },
      "execution_count": null,
      "outputs": []
    },
    {
      "cell_type": "code",
      "source": [
        "# Shuffle Integer\n",
        "\n",
        "def shuffleArray(arr,n):\n",
        "  g = n//2\n",
        "  a = []\n",
        "  a[:] = arr[::]\n",
        "  arr.clear()\n",
        "  if n%2==0:\n",
        "    for i in range(g):\n",
        "      arr.append(a[i])\n",
        "      arr.append(a[i+g])\n",
        "    return arr\n",
        "  else:\n",
        "    for i in range(g):\n",
        "      arr.append(a[i])\n",
        "      arr.append(a[i+g])\n",
        "    arr.append(0)\n",
        "    return arr\n",
        "\n"
      ],
      "metadata": {
        "id": "020PnFxY6BuL"
      },
      "execution_count": null,
      "outputs": []
    },
    {
      "cell_type": "code",
      "source": [
        "# Professor and Parties\n",
        "\n",
        "def PartyType(a, n):\n",
        "  s = set(a)\n",
        "  if len(s) == n:\n",
        "    return 'GIRLS'\n",
        "  else:\n",
        "    return 'BOYS'"
      ],
      "metadata": {
        "id": "5g23LVra6w66"
      },
      "execution_count": null,
      "outputs": []
    },
    {
      "cell_type": "code",
      "source": [
        "# Minimum Difference among K\n",
        "\n",
        "class Solution:\n",
        "   def minDiff(self,arr,N,K):\n",
        "       arr.sort()\n",
        "       res = arr[N-1]-arr[0]\n",
        "       for i in range(N-K+1):\n",
        "           res = min(res,arr[i+K-1]-arr[i])\n",
        "       return res"
      ],
      "metadata": {
        "id": "WMUL4dSa-ebd"
      },
      "execution_count": null,
      "outputs": []
    },
    {
      "cell_type": "code",
      "source": [
        "# Reverse Sub Array\n",
        "\n",
        "def reverseSubArray(arr, n, l, r):\n",
        "  a = []\n",
        "  a[:] = arr[l-1:r]\n",
        "  a = a[::-1]\n",
        "  arr[l-1:r] = a\n",
        "  return arr"
      ],
      "metadata": {
        "id": "HoyyYFea-tZl"
      },
      "execution_count": null,
      "outputs": []
    },
    {
      "cell_type": "code",
      "source": [
        "# Find the fine\n",
        "\n",
        "# Both solutions will work\n",
        "\n",
        "class Solution:\n",
        "   def totalFine(self, n, date, car, fine):\n",
        "      if date%2==0:\n",
        "        odd = []\n",
        "        for i in range(n):\n",
        "          if car[i] % 2 == 1:\n",
        "            odd.append(fine[i])\n",
        "        return sum(odd)\n",
        "      else:\n",
        "        even = []\n",
        "        for i in range(n):\n",
        "          if car[i] % 2 == 0:\n",
        "            even.append(fine[i])\n",
        "        return sum(even)\n",
        "\n",
        "\n",
        "class Solution:\n",
        "   def totalFine(self, n, date, car, fine):\n",
        "       fine_sum = 0\n",
        "       for idx,c in enumerate(car):\n",
        "           if date%2 == 0 and c%2 == 1:\n",
        "               fine_sum = fine_sum+fine[idx]\n",
        "\n",
        "           elif date%2 != 0 and c%2 == 0:\n",
        "               fine_sum = fine_sum+fine[idx]\n",
        "\n",
        "       return fine_sum"
      ],
      "metadata": {
        "id": "JqStwm5VJSVH"
      },
      "execution_count": null,
      "outputs": []
    },
    {
      "cell_type": "code",
      "source": [
        "# Longest Increasing Subarray\n",
        "\n",
        "class Solution:\n",
        "    def lenOfLongIncSubArr(self, a, n):\n",
        "        mc = 1\n",
        "        count = 1\n",
        "        for i in range(n-1):\n",
        "            if int(a[i])<int(a[i+1]):\n",
        "                count += 1\n",
        "            else:\n",
        "                mc = max(count,mc)\n",
        "                count = 1\n",
        "        m = max(count,mc)\n",
        "        return m"
      ],
      "metadata": {
        "id": "Ip8MnUip-wXa"
      },
      "execution_count": null,
      "outputs": []
    },
    {
      "cell_type": "code",
      "source": [
        "# Positive and negative elements\n",
        "\n",
        "class Solution:\n",
        "    def arranged(self,a,n):\n",
        "        c = []\n",
        "        g = 0\n",
        "        l = 1\n",
        "        for i in a:\n",
        "            if i>=0:\n",
        "              c.insert(g,i)\n",
        "              g += 2\n",
        "            else:\n",
        "              c.insert(l,i)\n",
        "              l += 2\n",
        "        return c\n",
        "\n"
      ],
      "metadata": {
        "id": "GYUHAoZHLsMV"
      },
      "execution_count": null,
      "outputs": []
    },
    {
      "cell_type": "code",
      "source": [
        "# Form largest number from digits\n",
        "\n",
        "class Solution:\n",
        "    def MaxNumber(self, arr, n):\n",
        "        arr.sort(reverse = True)\n",
        "        return (''.join(map(str,arr)))"
      ],
      "metadata": {
        "id": "GP6qCvPzQOIo"
      },
      "execution_count": null,
      "outputs": []
    },
    {
      "cell_type": "code",
      "source": [
        "# Digits in a set\n",
        "\n",
        "class Solution:\n",
        "   def countNumbers(self, n):\n",
        "       # code here\n",
        "       count=n\n",
        "       for i in range(1,n+1):\n",
        "           ele=str(i)\n",
        "           for j in range(len(ele)):\n",
        "               if(int(ele[j])>5 or int(ele[j])<1):\n",
        "                   count-=1\n",
        "                   break\n",
        "             \n",
        "       return count    "
      ],
      "metadata": {
        "id": "8sLvxJfB0EYN"
      },
      "execution_count": null,
      "outputs": []
    },
    {
      "cell_type": "code",
      "source": [
        "# Absolute Difference of 1\n",
        "\n",
        "class Solution:\n",
        "    def getDigitDiff1AndLessK(self, arr, n, k):\n",
        "        c = []\n",
        "        for i in arr:\n",
        "            flag = 0\n",
        "            if i < k:\n",
        "                res = list(map(int,str(i)))\n",
        "                if len(res)>1:\n",
        "                    for j in range(len(res)-1):\n",
        "                        if abs(res[j]- res[j+1])==1:\n",
        "                            pass\n",
        "                        else:\n",
        "                            flag = 1\n",
        "                            break\n",
        "                        \n",
        "                    if flag == 0:\n",
        "                        c.append(i)\n",
        "                    \n",
        "        return c"
      ],
      "metadata": {
        "id": "Fu8e9drARm9g"
      },
      "execution_count": null,
      "outputs": []
    },
    {
      "cell_type": "code",
      "source": [
        "# Type of Array\n",
        "\n",
        "class Solution:\n",
        "    def maxNtype(self , arr, n):\n",
        "        #code here.\n",
        "        maxx = max(arr)\n",
        "        if arr == sorted(arr):\n",
        "            return (1,maxx)\n",
        "        \n",
        "        if arr == sorted(arr)[::-1]:\n",
        "            return (2,maxx)\n",
        "        \n",
        "        diff = [arr[i+1] - arr[i] for i in range(n-1)]\n",
        "        ng = sum(1 for x in diff if x < 0)\n",
        "        po = len(diff) - ng\n",
        "        \n",
        "        if ng>po:\n",
        "            return(3,maxx)\n",
        "        else:\n",
        "            return (4,maxx) "
      ],
      "metadata": {
        "id": "Lb45nsSWVxbr"
      },
      "execution_count": null,
      "outputs": []
    },
    {
      "cell_type": "code",
      "source": [],
      "metadata": {
        "id": "CN3qa-WkirIA"
      },
      "execution_count": null,
      "outputs": []
    }
  ]
}