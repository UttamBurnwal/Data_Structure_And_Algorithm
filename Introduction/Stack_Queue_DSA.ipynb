{
  "nbformat": 4,
  "nbformat_minor": 0,
  "metadata": {
    "colab": {
      "name": "Data Structure and Algorithms - Stack / Queue",
      "provenance": []
    },
    "kernelspec": {
      "name": "python3",
      "display_name": "Python 3"
    },
    "language_info": {
      "name": "python"
    }
  },
  "cells": [
    {
      "cell_type": "markdown",
      "source": [
        "# Stack"
      ],
      "metadata": {
        "id": "CnqI42h5-Xin"
      }
    },
    {
      "cell_type": "code",
      "execution_count": null,
      "metadata": {
        "colab": {
          "base_uri": "https://localhost:8080/"
        },
        "id": "5C0igjb1-EFl",
        "outputId": "7dfcee92-3cd9-434d-f245-2f6583d83070"
      },
      "outputs": [
        {
          "name": "stdout",
          "output_type": "stream",
          "text": [
            "Enter the length of stack: 4\n",
            "Select an operation to perform: \n",
            "1. Push \n",
            "2. Pop \n",
            "3. Quit \n",
            " 1\n",
            "Enter an item to append: 2\n",
            "Added Element:  2\n",
            "['2']\n",
            "Select an operation to perform: \n",
            "1. Push \n",
            "2. Pop \n",
            "3. Quit \n",
            " 1\n",
            "Enter an item to append: 4\n",
            "Added Element:  4\n",
            "['2', '4']\n",
            "Select an operation to perform: \n",
            "1. Push \n",
            "2. Pop \n",
            "3. Quit \n",
            " 1\n",
            "Enter an item to append: 1\n",
            "Added Element:  1\n",
            "['2', '4', '1']\n",
            "Select an operation to perform: \n",
            "1. Push \n",
            "2. Pop \n",
            "3. Quit \n",
            " 1\n",
            "Enter an item to append: 9\n",
            "Added Element:  9\n",
            "['2', '4', '1', '9']\n",
            "Select an operation to perform: \n",
            "1. Push \n",
            "2. Pop \n",
            "3. Quit \n",
            " 2\n",
            "Removed element:  9\n",
            "['2', '4', '1']\n",
            "Select an operation to perform: \n",
            "1. Push \n",
            "2. Pop \n",
            "3. Quit \n",
            " 2\n",
            "Removed element:  1\n",
            "['2', '4']\n",
            "Select an operation to perform: \n",
            "1. Push \n",
            "2. Pop \n",
            "3. Quit \n",
            " 3\n"
          ]
        }
      ],
      "source": [
        "# Stack Using List: First in Last Out \n",
        "\n",
        "stack = []\n",
        "def push():\n",
        "    if len(stack) == n:\n",
        "        print('Stack is full')\n",
        "    else:\n",
        "        p = input('Enter an item to append: ')\n",
        "        stack.append(p)\n",
        "        print('Added Element: ',p)\n",
        "        print(stack)\n",
        "    \n",
        "def delete():\n",
        "    if not stack:\n",
        "        print('Stack is empty')\n",
        "    else:\n",
        "        e = stack.pop()\n",
        "        print('Removed element: ',e)\n",
        "        print(stack)\n",
        "\n",
        "n = int(input('Enter the length of stack: '))\n",
        "while True:\n",
        "    choice = int(input('Select an operation to perform: \\n1. Push \\n2. Pop \\n3. Quit \\n '))\n",
        "    if choice == 1:\n",
        "        push()\n",
        "    elif choice == 2:\n",
        "        delete()\n",
        "    elif choice == 3:\n",
        "        break\n",
        "    else:\n",
        "        print('Please enter the correct operations')"
      ]
    },
    {
      "cell_type": "code",
      "source": [
        "# Stack Using Collections Modules\n",
        "\n",
        "import collections\n",
        "\n",
        "stack = collections.deque()\n",
        "n = int(input('Enter the length of Stack: '))\n",
        "while True:\n",
        "    choice = int(input('Select an operation to perform: \\n1. Push \\n2. Pop \\n3. Quit \\n '))\n",
        "    if choice == 1:\n",
        "        element = input('Enter an element to add in stack: ')\n",
        "        if len(stack) == n:\n",
        "            print('Stack is full')\n",
        "            print(stack)\n",
        "        else:\n",
        "            stack.append(element)\n",
        "            print('Element added: ',element)\n",
        "            print(stack)\n",
        "    elif choice == 2:\n",
        "        e = stack.pop()\n",
        "        print('Element removed: ',e)\n",
        "        print(stack)\n",
        "    elif choice == 3:\n",
        "        break\n",
        "    else:\n",
        "        print('Please enter the correct operations')\n"
      ],
      "metadata": {
        "colab": {
          "base_uri": "https://localhost:8080/"
        },
        "id": "Km6fNl6Q-dAf",
        "outputId": "d98a4c49-a79a-4529-b440-dd39a3afee70"
      },
      "execution_count": null,
      "outputs": [
        {
          "name": "stdout",
          "output_type": "stream",
          "text": [
            "Enter the length of Stack: 3\n",
            "Select an operation to perform: \n",
            "1. Push \n",
            "2. Pop \n",
            "3. Quit \n",
            " 1\n",
            "Enter an element to add in stack: 2\n",
            "Element added:  2\n",
            "deque(['2'])\n",
            "Select an operation to perform: \n",
            "1. Push \n",
            "2. Pop \n",
            "3. Quit \n",
            " 1\n",
            "Enter an element to add in stack: 8\n",
            "Element added:  8\n",
            "deque(['2', '8'])\n",
            "Select an operation to perform: \n",
            "1. Push \n",
            "2. Pop \n",
            "3. Quit \n",
            " 1\n",
            "Enter an element to add in stack: 5\n",
            "Element added:  5\n",
            "deque(['2', '8', '5'])\n",
            "Select an operation to perform: \n",
            "1. Push \n",
            "2. Pop \n",
            "3. Quit \n",
            " 2\n",
            "Element removed:  5\n",
            "deque(['2', '8'])\n",
            "Select an operation to perform: \n",
            "1. Push \n",
            "2. Pop \n",
            "3. Quit \n",
            " 2\n",
            "Element removed:  8\n",
            "deque(['2'])\n",
            "Select an operation to perform: \n",
            "1. Push \n",
            "2. Pop \n",
            "3. Quit \n",
            " 3\n"
          ]
        }
      ]
    },
    {
      "cell_type": "markdown",
      "source": [
        "# Queue"
      ],
      "metadata": {
        "id": "smnDP0eQ_xPQ"
      }
    },
    {
      "cell_type": "code",
      "source": [
        "# Queue: First in First Out \n",
        "\n",
        "queue = []\n",
        "def push():\n",
        "    if len(queue) == n:\n",
        "        print('Queue is full')\n",
        "    else:\n",
        "        p = input('Enter an item to append: ')\n",
        "        queue.append(p)\n",
        "        print('Added Element: ',p)\n",
        "        print(queue)\n",
        "    \n",
        "def delete():\n",
        "    if not queue:\n",
        "        print('queue is empty')\n",
        "    else:\n",
        "        e = queue.pop(0)\n",
        "        print('Removed element: ',e)\n",
        "        print(queue)\n",
        "\n",
        "n = int(input('Enter the length of stack: '))\n",
        "while True:\n",
        "    choice = int(input('Select an operation to perform: \\n1. Push \\n2. Pop \\n3. Quit \\n '))\n",
        "    if choice == 1:\n",
        "        push()\n",
        "    elif choice == 2:\n",
        "        delete()\n",
        "    elif choice == 3:\n",
        "        break\n",
        "    else:\n",
        "        print('Please enter the correct operations')"
      ],
      "metadata": {
        "colab": {
          "base_uri": "https://localhost:8080/"
        },
        "id": "VZr3rQaL-fbF",
        "outputId": "f151bbeb-2139-4e8f-a0d9-d5d0a3ff5919"
      },
      "execution_count": null,
      "outputs": [
        {
          "name": "stdout",
          "output_type": "stream",
          "text": [
            "Enter the length of stack: 3\n",
            "Select an operation to perform: \n",
            "1. Push \n",
            "2. Pop \n",
            "3. Quit \n",
            " 1\n",
            "Enter an item to append: 1\n",
            "Added Element:  1\n",
            "['1']\n",
            "Select an operation to perform: \n",
            "1. Push \n",
            "2. Pop \n",
            "3. Quit \n",
            " 2\n",
            "Removed element:  1\n",
            "[]\n",
            "Select an operation to perform: \n",
            "1. Push \n",
            "2. Pop \n",
            "3. Quit \n",
            " 3\n"
          ]
        }
      ]
    },
    {
      "cell_type": "code",
      "source": [
        "# Queue Using Collections Modules\n",
        "\n",
        "import collections\n",
        "\n",
        "queue = collections.deque()\n",
        "n = int(input('Enter the length of queue: '))\n",
        "while True:\n",
        "    choice = int(input('Select an operation to perform: \\n1. Push \\n2. Pop \\n3. Quit \\n '))\n",
        "    if choice == 1:\n",
        "        element = input('Enter an element to add in queue: ')\n",
        "        if len(queue) == n:\n",
        "            print('Queue is full')\n",
        "            print(queue)\n",
        "        else:\n",
        "            queue.append(element)\n",
        "            print('Element added: ',element)\n",
        "            print(queue)\n",
        "    elif choice == 2:\n",
        "        e = queue.popleft()\n",
        "        print('Element removed: ',e)\n",
        "        print(queue)\n",
        "    elif choice == 3:\n",
        "        break\n",
        "    else:\n",
        "        print('Please enter the correct operations')\n"
      ],
      "metadata": {
        "colab": {
          "base_uri": "https://localhost:8080/"
        },
        "id": "wrAHu6O4-h2J",
        "outputId": "534c55c9-eb71-44d5-e04a-2a264a7b70ea"
      },
      "execution_count": null,
      "outputs": [
        {
          "name": "stdout",
          "output_type": "stream",
          "text": [
            "Enter the length of queue: 3\n",
            "Select an operation to perform: \n",
            "1. Push \n",
            "2. Pop \n",
            "3. Quit \n",
            " 1\n",
            "Enter an element to add in queue: 1\n",
            "Element added:  1\n",
            "deque(['1'])\n",
            "Select an operation to perform: \n",
            "1. Push \n",
            "2. Pop \n",
            "3. Quit \n",
            " 1\n",
            "Enter an element to add in queue: 7\n",
            "Element added:  7\n",
            "deque(['1', '7'])\n",
            "Select an operation to perform: \n",
            "1. Push \n",
            "2. Pop \n",
            "3. Quit \n",
            " 1\n",
            "Enter an element to add in queue: 5\n",
            "Element added:  5\n",
            "deque(['1', '7', '5'])\n",
            "Select an operation to perform: \n",
            "1. Push \n",
            "2. Pop \n",
            "3. Quit \n",
            " 2\n",
            "Element removed:  1\n",
            "deque(['7', '5'])\n",
            "Select an operation to perform: \n",
            "1. Push \n",
            "2. Pop \n",
            "3. Quit \n",
            " 2\n",
            "Element removed:  7\n",
            "deque(['5'])\n",
            "Select an operation to perform: \n",
            "1. Push \n",
            "2. Pop \n",
            "3. Quit \n",
            " 3\n"
          ]
        }
      ]
    },
    {
      "cell_type": "code",
      "source": [
        "# Priority Queue: Priority of elements matter\n",
        "\n",
        "limit = int(input('Enter the limit of Queue: '))\n",
        "pq = []\n",
        "while True:\n",
        "    choice = int(input('Select an operation to perform: \\n1. Push \\n2. Pop \\n3. Quit \\n '))\n",
        "    if choice == 1:\n",
        "        if len(pq) == limit:\n",
        "            print(f'Queue is full!! It can hold only {limit} elements')\n",
        "            print(pq)\n",
        "        else:\n",
        "            element = input('Enter the element to append: ')\n",
        "            pq.append(element)\n",
        "            pq.sort()\n",
        "            print(pq)\n",
        "    elif choice == 2:\n",
        "        if len(pq) == 0:\n",
        "            print('Queue is empty')\n",
        "        else:\n",
        "            e = pq.pop(-1)\n",
        "            print('Element removed: ',e) \n",
        "            print(pq)\n",
        "    elif choice == 3:\n",
        "        print('Quiting Further Operations')\n",
        "        break\n",
        "    else:\n",
        "        print('Please enter the correct operations')\n",
        "    \n",
        "        "
      ],
      "metadata": {
        "colab": {
          "base_uri": "https://localhost:8080/"
        },
        "id": "JqjB0jhc-jp1",
        "outputId": "f7f1638a-b264-4abb-a095-3a044444ce0b"
      },
      "execution_count": null,
      "outputs": [
        {
          "output_type": "stream",
          "name": "stdout",
          "text": [
            "Enter the limit of Queue: 3\n",
            "Select an operation to perform: \n",
            "1. Push \n",
            "2. Pop \n",
            "3. Quit \n",
            " 1\n",
            "Enter the element to append: 10\n",
            "['10']\n",
            "Select an operation to perform: \n",
            "1. Push \n",
            "2. Pop \n",
            "3. Quit \n",
            " 1\n",
            "Enter the element to append: 5\n",
            "['10', '5']\n",
            "Select an operation to perform: \n",
            "1. Push \n",
            "2. Pop \n",
            "3. Quit \n",
            " 1\n",
            "Enter the element to append: 6\n",
            "['10', '5', '6']\n",
            "Select an operation to perform: \n",
            "1. Push \n",
            "2. Pop \n",
            "3. Quit \n",
            " 2\n",
            "Element removed:  6\n",
            "['10', '5']\n",
            "Select an operation to perform: \n",
            "1. Push \n",
            "2. Pop \n",
            "3. Quit \n",
            " 2\n",
            "Element removed:  5\n",
            "['10']\n",
            "Select an operation to perform: \n",
            "1. Push \n",
            "2. Pop \n",
            "3. Quit \n",
            " 3\n",
            "Quiting Further Operations\n"
          ]
        }
      ]
    },
    {
      "cell_type": "code",
      "source": [
        ""
      ],
      "metadata": {
        "id": "8ypZ73o3-ltE"
      },
      "execution_count": null,
      "outputs": []
    },
    {
      "cell_type": "code",
      "source": [
        ""
      ],
      "metadata": {
        "id": "NGFZQKnH-nkk"
      },
      "execution_count": null,
      "outputs": []
    }
  ]
}