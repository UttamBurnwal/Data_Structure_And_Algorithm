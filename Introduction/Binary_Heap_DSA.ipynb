{
  "nbformat": 4,
  "nbformat_minor": 0,
  "metadata": {
    "colab": {
      "name": "Data Structure and Algorithms - Binary Heap",
      "provenance": []
    },
    "kernelspec": {
      "name": "python3",
      "display_name": "Python 3"
    },
    "language_info": {
      "name": "python"
    }
  },
  "cells": [
    {
      "cell_type": "markdown",
      "source": [
        "***Binary Heap is defined as the complete binary tree which satisfies the heap property.***\n",
        "\n",
        "***Complete binary tree is a type of binary tree in which all the level except last level is completely filled with nodes while last level can either be completely filled or nodes are filled from left to right.***\n",
        "\n",
        "***Heap property is defined as the property of a node in which key of every parent node need to be lesser than or equal to OR greater than or equal to the child node's key.***\n",
        "\n",
        "***Min heap or min binary heap is the complete binary tree where the key of every parent node is less than or equal to child node's key.***\n",
        "\n",
        "***Max heap or max binary heap is the complete binary tree where the key of every parent node is greater than or equal to child node's key.***\n",
        "\n",
        "***Applications:***\n",
        "\n",
        "*   To implement priority queue\n",
        "*   In heap sort algorithm\n",
        "*   To find Kth largest or smallest element in list of numbers\n",
        "\n",
        "\n",
        "\n",
        "\n"
      ],
      "metadata": {
        "id": "gQ0ldrbiGmvg"
      }
    },
    {
      "cell_type": "markdown",
      "source": [
        "## Binary Heap Operations"
      ],
      "metadata": {
        "id": "dvR-u3jLJlr9"
      }
    },
    {
      "cell_type": "markdown",
      "source": [
        "***Heapify is the process to rearrange the elements of the heap in order to maintain the heap property.***"
      ],
      "metadata": {
        "id": "QxOx_nj8JtQ5"
      }
    },
    {
      "cell_type": "markdown",
      "source": [
        "***Position of a Node***\n",
        "\n",
        "*   i position -> list[i]\n",
        "*   Parent position -> (i-1)//2\n",
        "*   Left Child -> (2*i) + 1\n",
        "*   Right Child -> (2*i) + 2\n",
        "\n",
        "\n",
        "\n"
      ],
      "metadata": {
        "id": "t0DRYoJA2Lpo"
      }
    },
    {
      "cell_type": "code",
      "source": [
        "import heapq"
      ],
      "metadata": {
        "id": "2M0scNmc0Pyp"
      },
      "execution_count": null,
      "outputs": []
    },
    {
      "cell_type": "code",
      "source": [
        "heap = []\n",
        "heapq.heappush(heap, 10)\n",
        "heap"
      ],
      "metadata": {
        "colab": {
          "base_uri": "https://localhost:8080/"
        },
        "id": "5-7qZrkv0QYa",
        "outputId": "616318e8-b848-4383-c2a4-6b8a854100d9"
      },
      "execution_count": null,
      "outputs": [
        {
          "output_type": "execute_result",
          "data": {
            "text/plain": [
              "[10]"
            ]
          },
          "metadata": {},
          "execution_count": 13
        }
      ]
    },
    {
      "cell_type": "code",
      "source": [
        "heapq.heappush(heap, 1)\n",
        "heapq.heappush(heap, 5)\n",
        "heapq.heappush(heap, 10)\n",
        "heapq.heappush(heap, 21)\n",
        "heapq.heappush(heap, 7)\n",
        "heapq.heappush(heap, 35)\n",
        "heapq.heappush(heap, 98)\n",
        "heap"
      ],
      "metadata": {
        "colab": {
          "base_uri": "https://localhost:8080/"
        },
        "id": "FZFw1JCd0RXF",
        "outputId": "f5184edb-56c3-4e12-b433-336db2206fc5"
      },
      "execution_count": null,
      "outputs": [
        {
          "output_type": "execute_result",
          "data": {
            "text/plain": [
              "[1, 10, 5, 10, 21, 7, 35, 98]"
            ]
          },
          "metadata": {},
          "execution_count": 14
        }
      ]
    },
    {
      "cell_type": "code",
      "source": [
        "heapq.heappop(heap)\n",
        "heap"
      ],
      "metadata": {
        "colab": {
          "base_uri": "https://localhost:8080/"
        },
        "id": "wiSRZ_oA3ma4",
        "outputId": "5d914808-732f-4671-c02b-1269c8ab7c65"
      },
      "execution_count": null,
      "outputs": [
        {
          "output_type": "execute_result",
          "data": {
            "text/plain": [
              "[5, 10, 7, 10, 21, 98, 35]"
            ]
          },
          "metadata": {},
          "execution_count": 15
        }
      ]
    },
    {
      "cell_type": "code",
      "source": [
        "list1 = [1,3,5,2,4,6]\n",
        "heapq.heapify(list1)\n",
        "list1"
      ],
      "metadata": {
        "colab": {
          "base_uri": "https://localhost:8080/"
        },
        "id": "Fd4BA6Ya3rWW",
        "outputId": "5c6f692d-158c-42b6-bf4d-ec39ca0a0bd1"
      },
      "execution_count": null,
      "outputs": [
        {
          "output_type": "execute_result",
          "data": {
            "text/plain": [
              "[1, 2, 5, 3, 4, 6]"
            ]
          },
          "metadata": {},
          "execution_count": 18
        }
      ]
    },
    {
      "cell_type": "code",
      "source": [
        "list2 = [1,2,5,3,4,6]\n",
        "heapq.heappushpop(list2, 89)\n",
        "list2"
      ],
      "metadata": {
        "colab": {
          "base_uri": "https://localhost:8080/"
        },
        "id": "CKjoZBLi8ion",
        "outputId": "5e3d12d2-ddd7-4deb-f14b-514fec5d2e8a"
      },
      "execution_count": null,
      "outputs": [
        {
          "output_type": "execute_result",
          "data": {
            "text/plain": [
              "[2, 3, 5, 89, 4, 6]"
            ]
          },
          "metadata": {},
          "execution_count": 19
        }
      ]
    },
    {
      "cell_type": "code",
      "source": [
        "heapq.heapreplace(list2, 100)\n",
        "list2"
      ],
      "metadata": {
        "colab": {
          "base_uri": "https://localhost:8080/"
        },
        "id": "XF6Uhlwl8_5r",
        "outputId": "424e3440-43ef-410a-801c-032cadb8e7ec"
      },
      "execution_count": null,
      "outputs": [
        {
          "output_type": "execute_result",
          "data": {
            "text/plain": [
              "[3, 4, 5, 89, 100, 6]"
            ]
          },
          "metadata": {},
          "execution_count": 20
        }
      ]
    },
    {
      "cell_type": "code",
      "source": [
        "heapq.nsmallest(1, list2)"
      ],
      "metadata": {
        "colab": {
          "base_uri": "https://localhost:8080/"
        },
        "id": "vxdUPpQR9M-T",
        "outputId": "68c62d48-df64-4491-fe33-c13f4d6ce080"
      },
      "execution_count": null,
      "outputs": [
        {
          "output_type": "execute_result",
          "data": {
            "text/plain": [
              "[3]"
            ]
          },
          "metadata": {},
          "execution_count": 25
        }
      ]
    },
    {
      "cell_type": "code",
      "source": [
        "heapq.nlargest(1, list2)"
      ],
      "metadata": {
        "colab": {
          "base_uri": "https://localhost:8080/"
        },
        "id": "HDRGUwT99buE",
        "outputId": "63575f70-5f9f-4835-c6c2-a613b7da73ad"
      },
      "execution_count": null,
      "outputs": [
        {
          "output_type": "execute_result",
          "data": {
            "text/plain": [
              "[100]"
            ]
          },
          "metadata": {},
          "execution_count": 26
        }
      ]
    },
    {
      "cell_type": "code",
      "source": [
        ""
      ],
      "metadata": {
        "id": "RctnzWiA9vsc"
      },
      "execution_count": null,
      "outputs": []
    }
  ]
}